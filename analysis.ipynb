{
 "cells": [
  {
   "cell_type": "code",
   "execution_count": 1,
   "metadata": {},
   "outputs": [],
   "source": [
    "from googleapiclient.discovery import build\n",
    "from IPython.display import JSON\n",
    "from config import API_KEY\n",
    "import pandas as pd\n",
    "import nltk\n",
    "from html import unescape\n"
   ]
  },
  {
   "cell_type": "code",
   "execution_count": 2,
   "metadata": {},
   "outputs": [],
   "source": [
    "from api_methods import get_all_channel_comments\n",
    "from api_methods import collect_channel_stats\n",
    "from api_methods import collect_video_ids\n",
    "from api_methods import collect_video_details\n",
    "from api_methods import get_comment_length\n",
    "from api_methods import get_all_comments_statistics\n",
    "from api_methods import get_playlist_videos_names\n",
    "from api_methods import get_video_info"
   ]
  },
  {
   "cell_type": "code",
   "execution_count": 3,
   "metadata": {},
   "outputs": [],
   "source": [
    "# Get credentials and create an API client\n",
    "api_service_name = \"youtube\"\n",
    "api_version = \"v3\"\n",
    "youtube = build(api_service_name, api_version, developerKey=API_KEY)"
   ]
  },
  {
   "cell_type": "code",
   "execution_count": 4,
   "metadata": {},
   "outputs": [],
   "source": [
    "# Channels to analyze\n",
    "#https://www.youtube.com/channel/UCW39zufHfsuGgpLviKh297Q\n",
    "channel_ids = [\n",
    "                \"UCW39zufHfsuGgpLviKh297Q\"\n",
    "]\n"
   ]
  },
  {
   "cell_type": "code",
   "execution_count": 5,
   "metadata": {},
   "outputs": [
    {
     "data": {
      "text/html": [
       "<div>\n",
       "<style scoped>\n",
       "    .dataframe tbody tr th:only-of-type {\n",
       "        vertical-align: middle;\n",
       "    }\n",
       "\n",
       "    .dataframe tbody tr th {\n",
       "        vertical-align: top;\n",
       "    }\n",
       "\n",
       "    .dataframe thead th {\n",
       "        text-align: right;\n",
       "    }\n",
       "</style>\n",
       "<table border=\"1\" class=\"dataframe\">\n",
       "  <thead>\n",
       "    <tr style=\"text-align: right;\">\n",
       "      <th></th>\n",
       "      <th>channelName</th>\n",
       "      <th>subscribers</th>\n",
       "      <th>views</th>\n",
       "      <th>totalVideos</th>\n",
       "      <th>playlistId</th>\n",
       "    </tr>\n",
       "  </thead>\n",
       "  <tbody>\n",
       "    <tr>\n",
       "      <th>0</th>\n",
       "      <td>DW Documentary</td>\n",
       "      <td>5250000</td>\n",
       "      <td>755662055</td>\n",
       "      <td>1054</td>\n",
       "      <td>UUW39zufHfsuGgpLviKh297Q</td>\n",
       "    </tr>\n",
       "  </tbody>\n",
       "</table>\n",
       "</div>"
      ],
      "text/plain": [
       "      channelName subscribers      views totalVideos                playlistId\n",
       "0  DW Documentary     5250000  755662055        1054  UUW39zufHfsuGgpLviKh297Q"
      ]
     },
     "execution_count": 5,
     "metadata": {},
     "output_type": "execute_result"
    }
   ],
   "source": [
    "channel_stats = collect_channel_stats(youtube, channel_ids)\n",
    "channel_stats"
   ]
  },
  {
   "cell_type": "code",
   "execution_count": 9,
   "metadata": {},
   "outputs": [
    {
     "name": "stdout",
     "output_type": "stream",
     "text": [
      "Title: Google, Facebook, Amazon - The rise of the mega-corporations | DW Documentary\n",
      "Description: \n",
      "Mega-corporations like Amazon and Facebook are becoming more powerful.\n",
      "And their growth shows no signs of slowing down.\n",
      "They are in the public eye -- but are they also above the law?\n",
      "The pandemic has only made the \"big four” -- Apple, Amazon, Google and Facebook -- more influential.\n",
      "Our data has become big business.\n",
      "But are these corporations out of control?\n",
      "Experts have long watched as corporations like Apple and Amazon flout antitrust laws, while receiving special treatment: When it comes to wages, taxes and laws, these corporations seem to rewrite the rules as they go.\n",
      "Many critics consider Facebook and Google’s systematic data exploitation a violation of our core democratic principals.\n",
      "Moreover, the line between the state and mega-corporations is growing even foggier.\n",
      "Some states believe there is simply no way around these giants.\n",
      "Corporate power seems like it is here to stay.\n",
      "Market driven surveillance undermines our sovereignty and thus the very foundation of Western democracies.\n",
      "There is a storm brewing both in the U.S. and Europe.\n",
      "But the corporations are ready for it.\n",
      "Will they continue on this dangerous trajectory, or is there some chance we can still rein them in?\n",
      "#documentary #dwdocumentary #data\n",
      "______\n",
      "\n",
      "DW Documentary gives you knowledge beyond the headlines.\n",
      "Watch top documentaries from German broadcasters and international production companies.\n",
      "Meet intriguing people, travel to distant lands, get a look behind the complexities of daily life and build a deeper understanding of current affairs and global events.\n",
      "Subscribe and explore the world around you with DW Documentary.\n",
      "Subscribe to: \n",
      "⮞ DW Documentary (English): https://www.youtube.com/dwdocumentary\n",
      "⮞ DW Documental (Spanish): https://www.youtube.com/dwdocumental\n",
      "⮞ DW Documentary وثائقية دي دبليو (Arabic): https://www.youtube.com/dwdocarabia\n",
      "⮞ DW Doku (German): https://www.youtube.com/dwdoku\n",
      "⮞ DW Documentary हिन्दी (Hindi): https://www.youtube.com/dwdochindi\n",
      "\n",
      "For more visit: http://www.dw.com/en/tv/docfilm/s-3610\n",
      "Follow DW Documentary on Instagram: https://www.instagram.com/dwdocumentary/\n",
      "Follow DW Documental on Facebook: https://www.facebook.com/dwdocumental\n",
      "\n",
      "We kindly ask viewers to read and stick to the DW netiquette policy on our channel: https://p.dw.com/p/MF1G\n"
     ]
    }
   ],
   "source": [
    "video_id = \"Dy8ogOaKk4Y\"\n",
    "#nltk.download('punkt')  # Download required resources\n",
    "#Since the text was very long, I tokenized it according to the sentences.\n",
    "def split_sentences(description):\n",
    "    sentences = nltk.sent_tokenize(description)\n",
    "    return sentences\n",
    "\n",
    "title, description = get_video_info(youtube,video_id)\n",
    "print(\"Title:\", title)\n",
    "print(\"Description:\")\n",
    "sentences = split_sentences(description)\n",
    "for sentence in sentences:\n",
    "    print(sentence)\n",
    "\n"
   ]
  },
  {
   "cell_type": "code",
   "execution_count": 7,
   "metadata": {},
   "outputs": [
    {
     "name": "stdout",
     "output_type": "stream",
     "text": [
      "The global battle over microchips | DW Documentary\n",
      "Robots to the rescue - High-Tech helpers | DW Documentary\n",
      "AI: Does artificial intelligence threaten our human identity? | DW Documentary\n",
      "Will humans love AI robots? | DW Documentary\n",
      "The blood shortage and the quest for artificial blood | DW Documentary\n",
      "Recycling e-waste - Good for business and the environment | DW Documentary\n",
      "The climate crisis: Can smart ideas save the planet? | DW Documentary\n",
      "Floating cities as an innovative response to climate change | DW Documentary\n",
      "Destined for space - Germany's first female astronaut | DW Documentary\n",
      "Tablets for depression - Do antidepressants help? | DW Documentary\n",
      "The propaganda war for Ukraine | DW Documentary\n",
      "From smartphones to e-cars - How important is the lithium-ion battery? | DW Documentary\n",
      "Digital solutions for decent lives - Founders Valley (1/3) | DW Documentary\n",
      "Doctors, apps and artificial intelligence - The future of medicine | DW Documentary\n",
      "Future cities: Urban planners get creative | DW Documentary\n",
      "How dangerous are microplastics? | DW Documentary\n",
      "How our brain judges people in a split second | DW Documentary\n",
      "Architecture: Insights into a male-dominated industry | DW Documentary\n",
      "The rise of a global company - From the microscope to the moon landing | DW Documentary\n",
      "Noise makes you sick - How can we deal with noise pollution? | DW Documentary\n",
      "More life - Decoding the secret of aging | DW Documentary\n",
      "Google, Facebook, Amazon - The rise of the mega-corporations | DW Documentary\n",
      "Spies, informants and new enemies - Today’s intelligence agencies | DW Documentary\n",
      "Fake news, propaganda, and conspiracy theories - The fight against disinformation | DW Documentary\n",
      "Drones, hackers and mercenaries - The future of war | DW Documentary\n",
      "The mysterious disease that affects millions of people worldwide | DW Documentary\n",
      "How does touch affect our mental and physical health? | DW Documentary\n",
      "The future of education - Virtual learning | DW Documentary\n",
      "Revolution in medicine - BioNTech, mRNA and the Covid-19 vaccine | DW Documentary\n",
      "Is green hydrogen the answer to the climate crisis? | DW Documentary\n",
      "The world’s oldest virus research lab | DW Documentary\n",
      "How technology makes life easier – and what’s still up to you / UNSEEN (5/5) | DW Documentary\n",
      "Lithium – new gold rush in the Andes | DW Documentary\n",
      "The dark side of social media – how can we protect children? | DW Documentary\n",
      "The German car industry's political muscle | DW Documentary\n",
      "Does a vaccine spell the end of the coronavirus pandemic? | DW Documentary\n",
      "When antibiotics are outsmarted | DW Documentary\n",
      "Love and sex in the internet age | DW Documentary\n",
      "The power of the pharmaceutical companies | DW Documentary\n",
      "Fine-tuning the climate  | DW Documentary\n",
      "The 3D printing revolution | DW Documentary\n",
      "How artificial intelligence is changing our society | DW Documentary\n",
      "Artificial intelligence and algorithms: pros and cons | DW Documentary (AI documentary)\n",
      "Will Germany's car industry survive? | DW Documentary\n",
      "Artificial intelligence and its ethics | DW Documentary\n",
      "Amazon, Jeff Bezos and collecting data | DW Documentary\n",
      "Tesla and Elon Musk - the future of electric cars | DW Documentary\n",
      "Meet Germany's first robot lecturer | DW Documentary\n",
      "Drones, robots, and super sperm – the future of farming | DW Documentary (Farming documentary)\n",
      "Female power & digital empowerment - Founders Valley (4/5) | DW Documentary\n"
     ]
    }
   ],
   "source": [
    "#Names of other videos in the playlist that contains the video\n",
    "playlist_id=\"PLovlAKbQVz6DhA5EKIe5evDkD1Mxsumci\"\n",
    "video_names = get_playlist_videos_names(youtube, playlist_id)\n",
    "#To put the names under each other\n",
    "for video_name in video_names:\n",
    "    print(video_name)"
   ]
  },
  {
   "cell_type": "code",
   "execution_count": 7,
   "metadata": {},
   "outputs": [
    {
     "name": "stdout",
     "output_type": "stream",
     "text": [
      "                                                Comment  \\\n",
      "0                                               um....😮   \n",
      "1              its their market... not the only market.   \n",
      "2     If they rise above the laws, democracy can giv...   \n",
      "3     I will repeat on every platform I watch your c...   \n",
      "4     Good information, background music is VERY ANN...   \n",
      "...                                                 ...   \n",
      "1759                    im addicted to DW documentaries   \n",
      "1760                                          Alles Gut   \n",
      "1761  My number One channel DW documentary, your con...   \n",
      "1762                                           Gooooood   \n",
      "1763  To Everyone Watching This Video Hope all is We...   \n",
      "\n",
      "                          User Name  \n",
      "0                         @QROROLAB  \n",
      "1                    @sheldonpopesp  \n",
      "2             @cleitondecarvalho431  \n",
      "3     @arturperrellaglukhovskyy9888  \n",
      "4                   @bonniesims2229  \n",
      "...                             ...  \n",
      "1759                  @michaell3105  \n",
      "1760                 @aminelmarjany  \n",
      "1761                   @Miller12217  \n",
      "1762             @mirazizmiraziz816  \n",
      "1763                 @manuskill5071  \n",
      "\n",
      "[1764 rows x 2 columns]\n"
     ]
    }
   ],
   "source": [
    "#User name and comments\n",
    "video_id = \"Dy8ogOaKk4Y\"\n",
    "# Comments for video\n",
    "comments = get_all_channel_comments(youtube, video_id)\n",
    "\n",
    "comments_df = pd.DataFrame(comments)\n",
    "\n",
    "print(comments_df)"
   ]
  },
  {
   "cell_type": "code",
   "execution_count": 7,
   "metadata": {},
   "outputs": [
    {
     "name": "stdout",
     "output_type": "stream",
     "text": [
      "{'Comment': '&quot;We will improve the lives of EVERYONE!&quot;<br>&quot;Well not those guys, or those, or these... not sure whose lives......<br>.....but EVERYONE!&quot;', 'User Name': '@j.d.4697'}\n"
     ]
    }
   ],
   "source": [
    "print(comments[96])"
   ]
  },
  {
   "cell_type": "code",
   "execution_count": 8,
   "metadata": {},
   "outputs": [
    {
     "name": "stdout",
     "output_type": "stream",
     "text": [
      "                          User Name  \\\n",
      "0                         @QROROLAB   \n",
      "1                    @sheldonpopesp   \n",
      "2             @cleitondecarvalho431   \n",
      "3     @arturperrellaglukhovskyy9888   \n",
      "4                   @bonniesims2229   \n",
      "...                             ...   \n",
      "1759                  @michaell3105   \n",
      "1760                 @aminelmarjany   \n",
      "1761                   @Miller12217   \n",
      "1762             @mirazizmiraziz816   \n",
      "1763                 @manuskill5071   \n",
      "\n",
      "                                                Comment  \n",
      "0                                               um....😮  \n",
      "1              its their market... not the only market.  \n",
      "2     If they rise above the laws, democracy can giv...  \n",
      "3     I will repeat on every platform I watch your c...  \n",
      "4     Good information, background music is VERY ANN...  \n",
      "...                                                 ...  \n",
      "1759                    im addicted to DW documentaries  \n",
      "1760                                          Alles Gut  \n",
      "1761  My number One channel DW documentary, your con...  \n",
      "1762                                           Gooooood  \n",
      "1763  To Everyone Watching This Video Hope all is We...  \n",
      "\n",
      "[1764 rows x 2 columns]\n"
     ]
    }
   ],
   "source": [
    "#Html tag clean\n",
    "video_id = \"Dy8ogOaKk4Y\"\n",
    "comments = get_all_channel_comments(youtube, video_id)\n",
    "\n",
    "data = {'User Name': [], 'Comment': []}  \n",
    "\n",
    "def clean_html_tags(text): #tag clean method\n",
    "    text = unescape(text)\n",
    "    text = text.replace('<br>', ' ')\n",
    "    return text\n",
    "\n",
    "for comment_info in comments:\n",
    "    data['Comment'].append(clean_html_tags(comment_info['Comment']))\n",
    "    data['User Name'].append(comment_info['User Name'])  \n",
    "comments_df = pd.DataFrame(data)\n",
    "print(comments_df)"
   ]
  },
  {
   "cell_type": "code",
   "execution_count": 9,
   "metadata": {},
   "outputs": [
    {
     "name": "stdout",
     "output_type": "stream",
     "text": [
      "\"We will improve the lives of EVERYONE!\" \"Well not those guys, or those, or these... not sure whose lives...... .....but EVERYONE!\"\n"
     ]
    }
   ],
   "source": [
    "print(comments_df.iloc[96]['Comment'])"
   ]
  },
  {
   "cell_type": "code",
   "execution_count": 10,
   "metadata": {},
   "outputs": [
    {
     "name": "stdout",
     "output_type": "stream",
     "text": [
      "                                                Comment  Lengths\n",
      "0                                               um....😮        7\n",
      "1              its their market... not the only market.       40\n",
      "2     If they rise above the laws, democracy can giv...      107\n",
      "3     I will repeat on every platform I watch your c...      377\n",
      "4     Good information, background music is VERY ANN...       71\n",
      "...                                                 ...      ...\n",
      "1759                    im addicted to DW documentaries       31\n",
      "1760                                          Alles Gut        9\n",
      "1761  My number One channel DW documentary, your con...      139\n",
      "1762                                           Gooooood        8\n",
      "1763  To Everyone Watching This Video Hope all is We...       82\n",
      "\n",
      "[1764 rows x 2 columns]\n"
     ]
    }
   ],
   "source": [
    "#get_comment_length\n",
    "video_id = \"Dy8ogOaKk4Y\"\n",
    "comments = get_all_channel_comments(youtube, video_id)\n",
    "\n",
    "comment_lengths = get_comment_length(comments)\n",
    "\n",
    "comments_df = pd.DataFrame({\n",
    "    'Comment': [comment['Comment'] for comment in comments],\n",
    "    'Lengths': comment_lengths\n",
    "})\n",
    "\n",
    "print(comments_df)"
   ]
  },
  {
   "cell_type": "code",
   "execution_count": 11,
   "metadata": {},
   "outputs": [
    {
     "name": "stdout",
     "output_type": "stream",
     "text": [
      "                        User Name  Comment Count\n",
      "0                       @QROROLAB              1\n",
      "1                  @sheldonpopesp              1\n",
      "2           @cleitondecarvalho431              1\n",
      "3   @arturperrellaglukhovskyy9888              1\n",
      "4                 @bonniesims2229              1\n",
      "5                        @lim8581              1\n",
      "6                 @paultaylor3264             21\n",
      "7               @chrisbronson5341              4\n",
      "8                @user-yh7kz9lo5s              1\n",
      "9                     @henryarero              7\n",
      "10                     @SupeRails              1\n",
      "11                         @maf7a              1\n",
      "12                     @CiscoZero              1\n",
      "13                    @masthan001              1\n",
      "14                        @ma1375              1\n"
     ]
    }
   ],
   "source": [
    "#get_all_comments_statistics\n",
    "video_id = \"Dy8ogOaKk4Y\"\n",
    "comments_stats = get_all_comments_statistics(youtube, video_id)\n",
    "\n",
    "data = {'User Name': list(comments_stats.keys()), 'Comment Count': list(comments_stats.values())}\n",
    "comments_df = pd.DataFrame(data)\n",
    "\n",
    "print(comments_df.head(15))"
   ]
  }
 ],
 "metadata": {
  "kernelspec": {
   "display_name": "base",
   "language": "python",
   "name": "python3"
  },
  "language_info": {
   "codemirror_mode": {
    "name": "ipython",
    "version": 3
   },
   "file_extension": ".py",
   "mimetype": "text/x-python",
   "name": "python",
   "nbconvert_exporter": "python",
   "pygments_lexer": "ipython3",
   "version": "3.11.4"
  }
 },
 "nbformat": 4,
 "nbformat_minor": 2
}
