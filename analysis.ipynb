{
 "cells": [
  {
   "cell_type": "code",
   "execution_count": 3,
   "metadata": {},
   "outputs": [],
   "source": [
    "\n",
    "from googleapiclient.discovery import build\n",
    "from IPython.display import JSON\n",
    "\n",
    "from config import API_KEY\n",
    "from api_methods import collect_channel_stats\n",
    "from api_methods import collect_video_ids\n",
    "from api_methods import collect_video_details\n"
   ]
  },
  {
   "cell_type": "code",
   "execution_count": 11,
   "metadata": {},
   "outputs": [],
   "source": [
    "from api_methods import get_channel_comments\n",
    "import pandas as pd\n",
    "import html\n",
    "from bs4 import BeautifulSoup"
   ]
  },
  {
   "cell_type": "code",
   "execution_count": 4,
   "metadata": {},
   "outputs": [],
   "source": [
    "# Get credentials and create an API client\n",
    "api_service_name = \"youtube\"\n",
    "api_version = \"v3\"\n",
    "youtube = build(api_service_name, api_version, developerKey=API_KEY)\n"
   ]
  },
  {
   "cell_type": "code",
   "execution_count": 5,
   "metadata": {},
   "outputs": [],
   "source": [
    "# Channels to analyze\n",
    "#https://www.youtube.com/channel/UCW39zufHfsuGgpLviKh297Q\n",
    "channel_ids = [\n",
    "                \"UCW39zufHfsuGgpLviKh297Q\"\n",
    "]\n"
   ]
  },
  {
   "cell_type": "code",
   "execution_count": 6,
   "metadata": {},
   "outputs": [
    {
     "data": {
      "text/html": [
       "<div>\n",
       "<style scoped>\n",
       "    .dataframe tbody tr th:only-of-type {\n",
       "        vertical-align: middle;\n",
       "    }\n",
       "\n",
       "    .dataframe tbody tr th {\n",
       "        vertical-align: top;\n",
       "    }\n",
       "\n",
       "    .dataframe thead th {\n",
       "        text-align: right;\n",
       "    }\n",
       "</style>\n",
       "<table border=\"1\" class=\"dataframe\">\n",
       "  <thead>\n",
       "    <tr style=\"text-align: right;\">\n",
       "      <th></th>\n",
       "      <th>channelName</th>\n",
       "      <th>subscribers</th>\n",
       "      <th>views</th>\n",
       "      <th>totalVideos</th>\n",
       "      <th>playlistId</th>\n",
       "    </tr>\n",
       "  </thead>\n",
       "  <tbody>\n",
       "    <tr>\n",
       "      <th>0</th>\n",
       "      <td>DW Documentary</td>\n",
       "      <td>5250000</td>\n",
       "      <td>754143515</td>\n",
       "      <td>1053</td>\n",
       "      <td>UUW39zufHfsuGgpLviKh297Q</td>\n",
       "    </tr>\n",
       "  </tbody>\n",
       "</table>\n",
       "</div>"
      ],
      "text/plain": [
       "      channelName subscribers      views totalVideos                playlistId\n",
       "0  DW Documentary     5250000  754143515        1053  UUW39zufHfsuGgpLviKh297Q"
      ]
     },
     "execution_count": 6,
     "metadata": {},
     "output_type": "execute_result"
    }
   ],
   "source": [
    "channel_stats = collect_channel_stats(youtube, channel_ids)\n",
    "channel_stats"
   ]
  },
  {
   "cell_type": "code",
   "execution_count": 15,
   "metadata": {},
   "outputs": [
    {
     "name": "stdout",
     "output_type": "stream",
     "text": [
      "                                                    0\n",
      "0   Why dont You show how Ukrainians have been kil...\n",
      "1   <a href=\"https://www.youtube.com/watch?v=MZ60U...\n",
      "2   Maybe using pen &amp; paper is WISER!!!  All t...\n",
      "3                                    Odesa with one S\n",
      "4   <a href=\"https://www.youtube.com/watch?v=MZ60U...\n",
      "..                                                ...\n",
      "95  It&#39;s Amazing to me, that producers of this...\n",
      "96  Pollution, contamination, famine &amp; train d...\n",
      "97  Thank you DW...hey,  consider us even up...and...\n",
      "98  You are wrong it will most likrly be fought wi...\n",
      "99  <a href=\"https://www.youtube.com/watch?v=MZ60U...\n",
      "\n",
      "[100 rows x 1 columns]\n"
     ]
    }
   ],
   "source": [
    "video_id = \"MZ60UDys_ZE\"\n",
    "# Video için yorumlar\n",
    "comments = get_channel_comments(youtube, video_id)\n",
    "\n",
    "comments_df = pd.DataFrame(comments)\n",
    "\n",
    "print(comments_df)"
   ]
  },
  {
   "cell_type": "code",
   "execution_count": 16,
   "metadata": {},
   "outputs": [
    {
     "name": "stdout",
     "output_type": "stream",
     "text": [
      "Why dont You show how Ukrainians have been killing Russians on Ukraine territories since 2014...<br>Why dont You shoe how Ukrainians killed over 100K  Polish people during  2 world war....please...\n"
     ]
    }
   ],
   "source": [
    "print(comments[0])"
   ]
  },
  {
   "cell_type": "code",
   "execution_count": 21,
   "metadata": {},
   "outputs": [
    {
     "name": "stdout",
     "output_type": "stream",
     "text": [
      "                                                Yorum\n",
      "0   Why dont You show how Ukrainians have been kil...\n",
      "1   10:40 This man is a fool.  You have to be prep...\n",
      "2   Maybe using pen & paper is WISER!!!  All the e...\n",
      "3                                    Odesa with one S\n",
      "4                                  30:30im not cheap.\n",
      "..                                                ...\n",
      "95  It's Amazing to me, that producers of this Doc...\n",
      "96  Pollution, contamination, famine & train derai...\n",
      "97  Thank you DW...hey,  consider us even up...and...\n",
      "98  You are wrong it will most likrly be fought wi...\n",
      "99         23:00 WTF HOW THERE IS STILL A GUY RUNNING\n",
      "\n",
      "[100 rows x 1 columns]\n"
     ]
    }
   ],
   "source": [
    "video_id = \"MZ60UDys_ZE\"\n",
    "comments = get_channel_comments(youtube, video_id)\n",
    "\n",
    "data = { 'Yorum': []}\n",
    "\n",
    "for comment in comments:\n",
    "    soup = BeautifulSoup(comment, \"html.parser\")  # BeautifulSoup kullanarak HTML'i işleme\n",
    "    cleaned_comment = soup.get_text()  # Yalnızca metni almak\n",
    "    \n",
    "    data['Yorum'].append(cleaned_comment)\n",
    "\n",
    "comments_df = pd.DataFrame(data)\n",
    "print(comments_df)"
   ]
  }
 ],
 "metadata": {
  "kernelspec": {
   "display_name": "base",
   "language": "python",
   "name": "python3"
  },
  "language_info": {
   "codemirror_mode": {
    "name": "ipython",
    "version": 3
   },
   "file_extension": ".py",
   "mimetype": "text/x-python",
   "name": "python",
   "nbconvert_exporter": "python",
   "pygments_lexer": "ipython3",
   "version": "3.11.4"
  }
 },
 "nbformat": 4,
 "nbformat_minor": 2
}
