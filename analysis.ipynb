{
 "cells": [
  {
   "cell_type": "code",
   "execution_count": 1,
   "metadata": {},
   "outputs": [],
   "source": [
    "\n",
    "from googleapiclient.discovery import build\n",
    "from IPython.display import JSON\n",
    "\n",
    "from config import API_KEY\n",
    "from api_methods import collect_channel_stats\n",
    "from api_methods import collect_video_ids\n",
    "from api_methods import collect_video_details\n"
   ]
  },
  {
   "cell_type": "code",
   "execution_count": 2,
   "metadata": {},
   "outputs": [],
   "source": [
    "from api_methods import get_all_channel_comments\n",
    "import pandas as pd\n",
    "from html import unescape\n",
    "from bs4 import BeautifulSoup\n",
    "from api_methods import get_comment_length\n",
    "from api_methods import get_all_comments_statistics\n"
   ]
  },
  {
   "cell_type": "code",
   "execution_count": 3,
   "metadata": {},
   "outputs": [],
   "source": [
    "# Get credentials and create an API client\n",
    "api_service_name = \"youtube\"\n",
    "api_version = \"v3\"\n",
    "youtube = build(api_service_name, api_version, developerKey=API_KEY)\n"
   ]
  },
  {
   "cell_type": "code",
   "execution_count": 4,
   "metadata": {},
   "outputs": [],
   "source": [
    "# Channels to analyze\n",
    "#https://www.youtube.com/channel/UCW39zufHfsuGgpLviKh297Q\n",
    "channel_ids = [\n",
    "                \"UCW39zufHfsuGgpLviKh297Q\"\n",
    "]\n"
   ]
  },
  {
   "cell_type": "code",
   "execution_count": 5,
   "metadata": {},
   "outputs": [
    {
     "data": {
      "text/html": [
       "<div>\n",
       "<style scoped>\n",
       "    .dataframe tbody tr th:only-of-type {\n",
       "        vertical-align: middle;\n",
       "    }\n",
       "\n",
       "    .dataframe tbody tr th {\n",
       "        vertical-align: top;\n",
       "    }\n",
       "\n",
       "    .dataframe thead th {\n",
       "        text-align: right;\n",
       "    }\n",
       "</style>\n",
       "<table border=\"1\" class=\"dataframe\">\n",
       "  <thead>\n",
       "    <tr style=\"text-align: right;\">\n",
       "      <th></th>\n",
       "      <th>channelName</th>\n",
       "      <th>subscribers</th>\n",
       "      <th>views</th>\n",
       "      <th>totalVideos</th>\n",
       "      <th>playlistId</th>\n",
       "    </tr>\n",
       "  </thead>\n",
       "  <tbody>\n",
       "    <tr>\n",
       "      <th>0</th>\n",
       "      <td>DW Documentary</td>\n",
       "      <td>5250000</td>\n",
       "      <td>754143515</td>\n",
       "      <td>1053</td>\n",
       "      <td>UUW39zufHfsuGgpLviKh297Q</td>\n",
       "    </tr>\n",
       "  </tbody>\n",
       "</table>\n",
       "</div>"
      ],
      "text/plain": [
       "      channelName subscribers      views totalVideos                playlistId\n",
       "0  DW Documentary     5250000  754143515        1053  UUW39zufHfsuGgpLviKh297Q"
      ]
     },
     "execution_count": 5,
     "metadata": {},
     "output_type": "execute_result"
    }
   ],
   "source": [
    "channel_stats = collect_channel_stats(youtube, channel_ids)\n",
    "channel_stats"
   ]
  },
  {
   "cell_type": "code",
   "execution_count": 6,
   "metadata": {},
   "outputs": [
    {
     "name": "stdout",
     "output_type": "stream",
     "text": [
      "                                                Comment  \\\n",
      "0                                               um....😮   \n",
      "1              its their market... not the only market.   \n",
      "2     If they rise above the laws, democracy can giv...   \n",
      "3     I will repeat on every platform I watch your c...   \n",
      "4     Good information, background music is VERY ANN...   \n",
      "...                                                 ...   \n",
      "1760                    im addicted to DW documentaries   \n",
      "1761                                          Alles Gut   \n",
      "1762  My number One channel DW documentary, your con...   \n",
      "1763                                           Gooooood   \n",
      "1764  To Everyone Watching This Video Hope all is We...   \n",
      "\n",
      "                          User Name  \n",
      "0                         @QROROLAB  \n",
      "1                    @sheldonpopesp  \n",
      "2             @cleitondecarvalho431  \n",
      "3     @arturperrellaglukhovskyy9888  \n",
      "4                   @bonniesims2229  \n",
      "...                             ...  \n",
      "1760                  @michaell3105  \n",
      "1761                 @aminelmarjany  \n",
      "1762                   @Miller12217  \n",
      "1763             @mirazizmiraziz816  \n",
      "1764                 @manuskill5071  \n",
      "\n",
      "[1765 rows x 2 columns]\n"
     ]
    }
   ],
   "source": [
    "video_id = \"Dy8ogOaKk4Y\"\n",
    "# Comments for video\n",
    "comments = get_all_channel_comments(youtube, video_id)\n",
    "\n",
    "comments_df = pd.DataFrame(comments)\n",
    "\n",
    "print(comments_df)"
   ]
  },
  {
   "cell_type": "code",
   "execution_count": 7,
   "metadata": {},
   "outputs": [
    {
     "name": "stdout",
     "output_type": "stream",
     "text": [
      "{'Comment': '&quot;We will improve the lives of EVERYONE!&quot;<br>&quot;Well not those guys, or those, or these... not sure whose lives......<br>.....but EVERYONE!&quot;', 'User Name': '@j.d.4697'}\n"
     ]
    }
   ],
   "source": [
    "print(comments[96])"
   ]
  },
  {
   "cell_type": "code",
   "execution_count": 8,
   "metadata": {},
   "outputs": [
    {
     "name": "stdout",
     "output_type": "stream",
     "text": [
      "                          User Name  \\\n",
      "0                         @QROROLAB   \n",
      "1                    @sheldonpopesp   \n",
      "2             @cleitondecarvalho431   \n",
      "3     @arturperrellaglukhovskyy9888   \n",
      "4                   @bonniesims2229   \n",
      "...                             ...   \n",
      "1760                  @michaell3105   \n",
      "1761                 @aminelmarjany   \n",
      "1762                   @Miller12217   \n",
      "1763             @mirazizmiraziz816   \n",
      "1764                 @manuskill5071   \n",
      "\n",
      "                                                Comment  \n",
      "0                                               um....😮  \n",
      "1              its their market... not the only market.  \n",
      "2     If they rise above the laws, democracy can giv...  \n",
      "3     I will repeat on every platform I watch your c...  \n",
      "4     Good information, background music is VERY ANN...  \n",
      "...                                                 ...  \n",
      "1760                    im addicted to DW documentaries  \n",
      "1761                                          Alles Gut  \n",
      "1762  My number One channel DW documentary, your con...  \n",
      "1763                                           Gooooood  \n",
      "1764  To Everyone Watching This Video Hope all is We...  \n",
      "\n",
      "[1765 rows x 2 columns]\n"
     ]
    }
   ],
   "source": [
    "video_id = \"Dy8ogOaKk4Y\"\n",
    "comments = get_all_channel_comments(youtube, video_id)\n",
    "\n",
    "data = {'User Name': [], 'Comment': []}  \n",
    "\n",
    "def clean_html_tags(text):\n",
    "    text = unescape(text)\n",
    "    text = text.replace('<br>', ' ')\n",
    "    return text\n",
    "\n",
    "for comment_info in comments:\n",
    "    data['Comment'].append(clean_html_tags(comment_info['Comment']))  #html tag clean\n",
    "    data['User Name'].append(comment_info['User Name'])  \n",
    "comments_df = pd.DataFrame(data)\n",
    "print(comments_df)"
   ]
  },
  {
   "cell_type": "code",
   "execution_count": 9,
   "metadata": {},
   "outputs": [
    {
     "name": "stdout",
     "output_type": "stream",
     "text": [
      "\"We will improve the lives of EVERYONE!\" \"Well not those guys, or those, or these... not sure whose lives...... .....but EVERYONE!\"\n"
     ]
    }
   ],
   "source": [
    "print(comments_df.iloc[96]['Comment'])"
   ]
  },
  {
   "cell_type": "code",
   "execution_count": 10,
   "metadata": {},
   "outputs": [
    {
     "name": "stdout",
     "output_type": "stream",
     "text": [
      "                                                Comment  Lengths\n",
      "0                                               um....😮        7\n",
      "1              its their market... not the only market.       40\n",
      "2     If they rise above the laws, democracy can giv...      107\n",
      "3     I will repeat on every platform I watch your c...      377\n",
      "4     Good information, background music is VERY ANN...       71\n",
      "...                                                 ...      ...\n",
      "1760                    im addicted to DW documentaries       31\n",
      "1761                                          Alles Gut        9\n",
      "1762  My number One channel DW documentary, your con...      139\n",
      "1763                                           Gooooood        8\n",
      "1764  To Everyone Watching This Video Hope all is We...       82\n",
      "\n",
      "[1765 rows x 2 columns]\n"
     ]
    }
   ],
   "source": [
    "video_id = \"Dy8ogOaKk4Y\"\n",
    "comments = get_all_channel_comments(youtube, video_id)\n",
    "\n",
    "comment_lengths = get_comment_length(comments)\n",
    "\n",
    "comments_df = pd.DataFrame({\n",
    "    'Comment': [comment['Comment'] for comment in comments],\n",
    "    'Lengths': comment_lengths\n",
    "})\n",
    "\n",
    "print(comments_df)"
   ]
  },
  {
   "cell_type": "code",
   "execution_count": 6,
   "metadata": {},
   "outputs": [
    {
     "name": "stdout",
     "output_type": "stream",
     "text": [
      "                        User Name  Comment Count\n",
      "0                       @QROROLAB              1\n",
      "1                  @sheldonpopesp              1\n",
      "2           @cleitondecarvalho431              1\n",
      "3   @arturperrellaglukhovskyy9888              1\n",
      "4                 @bonniesims2229              1\n",
      "5                        @lim8581              1\n",
      "6                 @paultaylor3264             21\n",
      "7               @chrisbronson5341              4\n",
      "8                @user-yh7kz9lo5s              1\n",
      "9                     @henryarero              7\n",
      "10                     @SupeRails              1\n",
      "11                         @maf7a              1\n",
      "12                     @CiscoZero              1\n",
      "13                    @masthan001              1\n",
      "14                        @ma1375              1\n"
     ]
    }
   ],
   "source": [
    "video_id = \"Dy8ogOaKk4Y\"\n",
    "comments_stats = get_all_comments_statistics(youtube, video_id)\n",
    "\n",
    "data = {'User Name': list(comments_stats.keys()), 'Comment Count': list(comments_stats.values())}\n",
    "comments_df = pd.DataFrame(data)\n",
    "\n",
    "print(comments_df.head(15))"
   ]
  },
  {
   "cell_type": "code",
   "execution_count": null,
   "metadata": {},
   "outputs": [],
   "source": []
  }
 ],
 "metadata": {
  "kernelspec": {
   "display_name": "base",
   "language": "python",
   "name": "python3"
  },
  "language_info": {
   "codemirror_mode": {
    "name": "ipython",
    "version": 3
   },
   "file_extension": ".py",
   "mimetype": "text/x-python",
   "name": "python",
   "nbconvert_exporter": "python",
   "pygments_lexer": "ipython3",
   "version": "3.11.4"
  }
 },
 "nbformat": 4,
 "nbformat_minor": 2
}
