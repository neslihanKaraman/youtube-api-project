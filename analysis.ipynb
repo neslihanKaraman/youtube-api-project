{
 "cells": [
  {
   "cell_type": "code",
   "execution_count": 3,
   "metadata": {},
   "outputs": [],
   "source": [
    "\n",
    "from googleapiclient.discovery import build\n",
    "from IPython.display import JSON\n",
    "\n",
    "from config import API_KEY\n",
    "from api_methods import collect_channel_stats\n",
    "from api_methods import collect_video_ids\n",
    "from api_methods import collect_video_details\n"
   ]
  },
  {
   "cell_type": "code",
   "execution_count": 11,
   "metadata": {},
   "outputs": [],
   "source": [
    "from api_methods import get_channel_comments\n",
    "import pandas as pd\n",
    "import html\n",
    "from bs4 import BeautifulSoup"
   ]
  },
  {
   "cell_type": "code",
   "execution_count": 4,
   "metadata": {},
   "outputs": [],
   "source": [
    "# Get credentials and create an API client\n",
    "api_service_name = \"youtube\"\n",
    "api_version = \"v3\"\n",
    "youtube = build(api_service_name, api_version, developerKey=API_KEY)\n"
   ]
  },
  {
   "cell_type": "code",
   "execution_count": 5,
   "metadata": {},
   "outputs": [],
   "source": [
    "# Channels to analyze\n",
    "#https://www.youtube.com/channel/UCW39zufHfsuGgpLviKh297Q\n",
    "channel_ids = [\n",
    "                \"UCW39zufHfsuGgpLviKh297Q\"\n",
    "]\n"
   ]
  },
  {
   "cell_type": "code",
   "execution_count": 6,
   "metadata": {},
   "outputs": [
    {
     "data": {
      "text/html": [
       "<div>\n",
       "<style scoped>\n",
       "    .dataframe tbody tr th:only-of-type {\n",
       "        vertical-align: middle;\n",
       "    }\n",
       "\n",
       "    .dataframe tbody tr th {\n",
       "        vertical-align: top;\n",
       "    }\n",
       "\n",
       "    .dataframe thead th {\n",
       "        text-align: right;\n",
       "    }\n",
       "</style>\n",
       "<table border=\"1\" class=\"dataframe\">\n",
       "  <thead>\n",
       "    <tr style=\"text-align: right;\">\n",
       "      <th></th>\n",
       "      <th>channelName</th>\n",
       "      <th>subscribers</th>\n",
       "      <th>views</th>\n",
       "      <th>totalVideos</th>\n",
       "      <th>playlistId</th>\n",
       "    </tr>\n",
       "  </thead>\n",
       "  <tbody>\n",
       "    <tr>\n",
       "      <th>0</th>\n",
       "      <td>DW Documentary</td>\n",
       "      <td>5250000</td>\n",
       "      <td>754143515</td>\n",
       "      <td>1053</td>\n",
       "      <td>UUW39zufHfsuGgpLviKh297Q</td>\n",
       "    </tr>\n",
       "  </tbody>\n",
       "</table>\n",
       "</div>"
      ],
      "text/plain": [
       "      channelName subscribers      views totalVideos                playlistId\n",
       "0  DW Documentary     5250000  754143515        1053  UUW39zufHfsuGgpLviKh297Q"
      ]
     },
     "execution_count": 6,
     "metadata": {},
     "output_type": "execute_result"
    }
   ],
   "source": [
    "channel_stats = collect_channel_stats(youtube, channel_ids)\n",
    "channel_stats"
   ]
  },
  {
   "cell_type": "code",
   "execution_count": 22,
   "metadata": {},
   "outputs": [
    {
     "name": "stdout",
     "output_type": "stream",
     "text": [
      "                                                    0\n",
      "0                                             um....😮\n",
      "1            its their market... not the only market.\n",
      "2   If they rise above the laws, democracy can giv...\n",
      "3   I will repeat on every platform I watch your c...\n",
      "4   Good information, background music is VERY ANN...\n",
      "..                                                ...\n",
      "95  Ironically even a terrible capitalist system l...\n",
      "96  &quot;We will improve the lives of EVERYONE!&q...\n",
      "97  Before we Don&#39;t have Internet and computer...\n",
      "98  Covid is a stimulation psychological to us , a...\n",
      "99  I depend on mark Zuckerberg... My money making...\n",
      "\n",
      "[100 rows x 1 columns]\n"
     ]
    }
   ],
   "source": [
    "video_id = \"Dy8ogOaKk4Y\"\n",
    "# Video için yorumlar\n",
    "comments = get_channel_comments(youtube, video_id)\n",
    "\n",
    "comments_df = pd.DataFrame(comments)\n",
    "\n",
    "print(comments_df)"
   ]
  },
  {
   "cell_type": "code",
   "execution_count": 24,
   "metadata": {},
   "outputs": [
    {
     "name": "stdout",
     "output_type": "stream",
     "text": [
      "its their market... not the only market.\n"
     ]
    }
   ],
   "source": [
    "print(comments[1])"
   ]
  },
  {
   "cell_type": "code",
   "execution_count": 25,
   "metadata": {},
   "outputs": [
    {
     "name": "stdout",
     "output_type": "stream",
     "text": [
      "                                                Yorum\n",
      "0                                             um....😮\n",
      "1            its their market... not the only market.\n",
      "2   If they rise above the laws, democracy can giv...\n",
      "3   I will repeat on every platform I watch your c...\n",
      "4   Good information, background music is VERY ANN...\n",
      "..                                                ...\n",
      "95  Ironically even a terrible capitalist system l...\n",
      "96  \"We will improve the lives of EVERYONE!\"\"Well ...\n",
      "97  Before we Don't have Internet and computers, w...\n",
      "98  Covid is a stimulation psychological to us , a...\n",
      "99  I depend on mark Zuckerberg... My money making...\n",
      "\n",
      "[100 rows x 1 columns]\n"
     ]
    },
    {
     "name": "stderr",
     "output_type": "stream",
     "text": [
      "C:\\Users\\nesli\\AppData\\Local\\Temp\\ipykernel_152\\2764670983.py:7: MarkupResemblesLocatorWarning: The input looks more like a filename than markup. You may want to open this file and pass the filehandle into Beautiful Soup.\n",
      "  soup = BeautifulSoup(comment, \"html.parser\")  # BeautifulSoup kullanarak HTML'i işleme\n"
     ]
    }
   ],
   "source": [
    "video_id = \"Dy8ogOaKk4Y\"\n",
    "comments = get_channel_comments(youtube, video_id)\n",
    "\n",
    "data = { 'Yorum': []}\n",
    "\n",
    "for comment in comments:\n",
    "    soup = BeautifulSoup(comment, \"html.parser\")  # BeautifulSoup kullanarak HTML'i işleme\n",
    "    cleaned_comment = soup.get_text()  # Yalnızca metni almak\n",
    "    \n",
    "    data['Yorum'].append(cleaned_comment)\n",
    "\n",
    "comments_df = pd.DataFrame(data)\n",
    "print(comments_df)"
   ]
  },
  {
   "cell_type": "code",
   "execution_count": null,
   "metadata": {},
   "outputs": [],
   "source": []
  }
 ],
 "metadata": {
  "kernelspec": {
   "display_name": "base",
   "language": "python",
   "name": "python3"
  },
  "language_info": {
   "codemirror_mode": {
    "name": "ipython",
    "version": 3
   },
   "file_extension": ".py",
   "mimetype": "text/x-python",
   "name": "python",
   "nbconvert_exporter": "python",
   "pygments_lexer": "ipython3",
   "version": "3.11.4"
  }
 },
 "nbformat": 4,
 "nbformat_minor": 2
}
